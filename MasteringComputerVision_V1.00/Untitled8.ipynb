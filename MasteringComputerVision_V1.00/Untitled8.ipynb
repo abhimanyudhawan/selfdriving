{
 "cells": [
  {
   "cell_type": "code",
   "execution_count": 13,
   "metadata": {
    "collapsed": true
   },
   "outputs": [],
   "source": [
    "import numpy as np\n",
    "import cv2"
   ]
  },
  {
   "cell_type": "code",
   "execution_count": 23,
   "metadata": {
    "collapsed": false
   },
   "outputs": [],
   "source": [
    "import numpy as np\n",
    "import cv2\n",
    "cap = cv2.VideoCapture('./images/mobile1.mp4')\n",
    "fgbg = cv2.BackgroundSubtractorMOG2()\n",
    "while(1):\n",
    "    ret, frame = cap.read()\n",
    "#     for i in range (1,frame.shape[0]):\n",
    "#         for j in range (1,frame.shape[1]):\n",
    "#             B, G, R = frame[i,j]\n",
    "# #             if(B>100):\n",
    "#                 frame[i,j,0]=255\n",
    "#             if(B<90):\n",
    "#                 frame[i,j,0]=0\n",
    "#             if(G>100):\n",
    "#                 frame[i,j,1]=255\n",
    "#             if(G<90):\n",
    "#                 frame[i,j,1]=0\n",
    "#             if(R>100):\n",
    "#                 frame[i,j,2]=255\n",
    "#             if(R<90):\n",
    "#                 frame[i,j,2]=0\n",
    "    \n",
    "#     ret,threshd2 = cv2.threshold(fgmask,250,255,cv2.THRESH_BINARY)\n",
    "    cv2.imshow('frame',frame)\n",
    "    if cv2.waitKey(30) & 0xFF == ord('q'):\n",
    "        break\n",
    "cap.release()\n",
    "cv2.destroyAllWindows()"
   ]
  }
 ],
 "metadata": {
  "kernelspec": {
   "display_name": "Python 2",
   "language": "python",
   "name": "python2"
  },
  "language_info": {
   "codemirror_mode": {
    "name": "ipython",
    "version": 2
   },
   "file_extension": ".py",
   "mimetype": "text/x-python",
   "name": "python",
   "nbconvert_exporter": "python",
   "pygments_lexer": "ipython2",
   "version": "2.7.13"
  }
 },
 "nbformat": 4,
 "nbformat_minor": 2
}
