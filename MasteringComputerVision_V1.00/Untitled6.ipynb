{
 "cells": [
  {
   "cell_type": "code",
   "execution_count": null,
   "metadata": {
    "collapsed": true
   },
   "outputs": [],
   "source": [
    "\n",
    "import cv2\n",
    "import numpy as np\n",
    "# Let's load a simple image with 3 black squares\n",
    "# image = cv2.imread('images/shapes.jpg')\n",
    "\n",
    "# define range of PURPLE color in HSV\n",
    "\n",
    "cap=cv2.VideoCapture('./images/mobile1.mp4')\n",
    "\n",
    "# Let's define our kernel size\n",
    "kernel = np.ones((2,2), np.uint8)\n",
    "\n",
    "while True:\n",
    "    ret, frame = cap.read()\n",
    "    if ret == True:\n",
    "        cv2.imshow('unblurred',frame)\n",
    "    if cv2.waitKey(32):\n",
    "        while(1):\n",
    "            if cv2.waitKey(32):\n",
    "                break\n",
    "        if cv2.waitKey(30) & 0xFF == ord('q'):\n",
    "            break\n",
    "    else:\n",
    "        break\n",
    "cap.release()\n",
    "cv2.destroyAllWindows()\n",
    "\n"
   ]
  }
 ],
 "metadata": {},
 "nbformat": 4,
 "nbformat_minor": 2
}
