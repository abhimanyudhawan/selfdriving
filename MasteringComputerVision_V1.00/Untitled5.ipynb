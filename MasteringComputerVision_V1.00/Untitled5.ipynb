{
 "cells": [
  {
   "cell_type": "code",
   "execution_count": 1,
   "metadata": {
    "collapsed": true
   },
   "outputs": [],
   "source": [
    "import cv2\n",
    "import numpy as np"
   ]
  },
  {
   "cell_type": "code",
   "execution_count": 1,
   "metadata": {
    "collapsed": false,
    "scrolled": false
   },
   "outputs": [],
   "source": [
    "import cv2\n",
    "import numpy as np\n",
    "\n",
    "# Let's load a simple image with 3 black squares\n",
    "# image = cv2.imread('images/shapes.jpg')\n",
    "\n",
    "# define range of PURPLE color in HSV\n",
    "\n",
    "cap=cv2.VideoCapture('./images/mobile1.mp4')\n",
    "while True:\n",
    "    ret, frame = cap.read()\n",
    "    if ret == True:\n",
    "        cv2.imshow('unblurred',frame)\n",
    "        blur = cv2.GaussianBlur(frame,(7,7),5)\n",
    "        B,G,R = cv2.split(blur)\n",
    "        merged = cv2.merge([B-40, G, R]) \n",
    "        cv2.imshow('blurred',merged)\n",
    "        if cv2.waitKey(30) & 0xFF == ord('q'):\n",
    "            break\n",
    "\n",
    "    else:\n",
    "        break\n",
    "cap.release()\n",
    "cv2.destroyAllWindows()\n",
    "\n",
    "# #         gray = cv2.cvtColor(blurred, cv2.COLOR_BGR2GRAY)\n",
    "#         cv2.imshow('frame',gray)\n",
    "        \n",
    "#         # Find Canny edges\n",
    "#         edged = cv2.Canny(gray, 220, 300)\n",
    "#         cv2.imshow('Canny Edges', edged)\n",
    "#         contours, hierarchy = cv2.findContours(edged, cv2.RETR_LIST, cv2.CHAIN_APPROX_SIMPLE)\n",
    "#         cv2.imshow('Canny Edges After Contouring', edged)\n",
    "# #         cv2.drawContours(image, contours, -1, (0,255,0), 3)\n",
    "# #         cv2.imshow('Contours', image)\n",
    "\n",
    "        \n",
    "#         if cv2.waitKey(30) & 0xFF == ord('q'):\n",
    "#             break\n",
    "\n",
    "#     else:\n",
    "#         break\n",
    "# #     cv2.waitKey(0)\n",
    "\n",
    "# #     # Grayscale\n",
    "# #     gray = cv2.cvtColor(image,cv2.COLOR_BGR2GRAY)\n",
    "\n",
    "# #     # Find Canny edges\n",
    "# #     edged = cv2.Canny(gray, 30, 200)\n",
    "# #     cv2.imshow('Canny Edges', edged)\n",
    "# #     cv2.waitKey(0)\n",
    "\n",
    "# #     # Finding Contours\n",
    "# #     # Use a copy of your image e.g. edged.copy(), since findContours alters the image\n",
    "# #     contours, hierarchy = cv2.findContours(edged, cv2.RETR_LIST, cv2.CHAIN_APPROX_SIMPLE)\n",
    "# #     cv2.imshow('Canny Edges After Contouring', edged)\n",
    "# #     cv2.waitKey(0)\n",
    "\n",
    "# #     print(\"Number of Contours found = \" + str(len(contours)))\n",
    "\n",
    "# #     # Draw all contours\n",
    "# #     # Use '-1' as the 3rd parameter to draw all\n",
    "# #     cv2.drawContours(image, contours, -1, (0,255,0), 3)\n",
    "\n",
    "# #     cv2.imshow('Contours', image)\n",
    "\n",
    "    \n",
    "       "
   ]
  }
 ],
 "metadata": {
  "kernelspec": {
   "display_name": "Python 2",
   "language": "python",
   "name": "python2"
  },
  "language_info": {
   "codemirror_mode": {
    "name": "ipython",
    "version": 2
   },
   "file_extension": ".py",
   "mimetype": "text/x-python",
   "name": "python",
   "nbconvert_exporter": "python",
   "pygments_lexer": "ipython2",
   "version": "2.7.13"
  }
 },
 "nbformat": 4,
 "nbformat_minor": 2
}
