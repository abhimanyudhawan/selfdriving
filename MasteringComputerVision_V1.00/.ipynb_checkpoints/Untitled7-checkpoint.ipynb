{
 "cells": [
  {
   "cell_type": "code",
   "execution_count": 1,
   "metadata": {
    "collapsed": true
   },
   "outputs": [],
   "source": [
    "import numpy as np\n",
    "import cv2"
   ]
  },
  {
   "cell_type": "code",
   "execution_count": 22,
   "metadata": {
    "collapsed": false
   },
   "outputs": [],
   "source": [
    "import numpy as np\n",
    "import cv2\n",
    "cap = cv2.VideoCapture('./images/mobile1.mp4')\n",
    "fgbg = cv2.BackgroundSubtractorMOG2()\n",
    "while(1):\n",
    "    ret, frame = cap.read()\n",
    "    gray=cv2.cvtColor(frame,cv2.COLOR_BGR2GRAY)\n",
    "    ret,threshd1 = cv2.threshold(gray,100,255,cv2.THRESH_TOZERO)\n",
    "    threshd2=cv2.cvtColor(threshd1,cv2.COLOR_GRAY2BGR)\n",
    "    cv2.imshow('frame',threshd1)\n",
    "    blur = cv2.GaussianBlur(frame,(7,7),5)\n",
    "    fgmask = fgbg.apply(blur)\n",
    "#     ret,threshd2 = cv2.threshold(fgmask,250,255,cv2.THRESH_BINARY)\n",
    "#     cv2.imshow('frame',threshd2)\n",
    "    if cv2.waitKey(30) & 0xFF == ord('q'):\n",
    "        break\n",
    "cap.release()\n",
    "cv2.destroyAllWindows()"
   ]
  }
 ],
 "metadata": {
  "kernelspec": {
   "display_name": "Python 2",
   "language": "python",
   "name": "python2"
  },
  "language_info": {
   "codemirror_mode": {
    "name": "ipython",
    "version": 2
   },
   "file_extension": ".py",
   "mimetype": "text/x-python",
   "name": "python",
   "nbconvert_exporter": "python",
   "pygments_lexer": "ipython2",
   "version": "2.7.13"
  }
 },
 "nbformat": 4,
 "nbformat_minor": 2
}
